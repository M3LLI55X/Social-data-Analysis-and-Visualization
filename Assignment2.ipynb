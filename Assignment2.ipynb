{
 "cells": [
  {
   "cell_type": "markdown",
   "metadata": {},
   "source": [
    "# Assignment 2\n",
    "\n",
    "## Formalia:\n",
    "\n",
    "Please read the [assignment overview page](https://github.com/suneman/socialdata2023/wiki/Assignments) carefully before proceeding. This page contains information about formatting (including formats etc.), group sizes, and many other aspects of handing in the assignment. \n",
    "\n",
    "_If you fail to follow these simple instructions, it will negatively impact your grade!_\n",
    "\n",
    "**Due date and time**: The assignment is due on Monday March 27th, 2023 at 23:55. Hand in your files via [http://peergrade.io](http://peergrade.io/). If you're not already a peergrade user, [you can use this link to sign up]( \n",
    "https://app.peergrade.io/join/44E47G) - **PLEASE USE YOUR DTU EMAIL WHEN YOU SIGN UP**.\n",
    "\n",
    "**Peergrading date and time**: \\[OPTIONAL FOR ASSIGNMENT 2\\] _Remember that after handing in you MAY evaluate a few assignments written by other members of the class_. (Should you choose to do this, the deadline is Tuesday April 11 at noon). "
   ]
  },
  {
   "cell_type": "markdown",
   "metadata": {},
   "source": [
    "## A2: A short data story\n",
    "\n",
    "This assignment is to create a short data-story based on the work we've done in class so far. See **Exercises Week 8, Part 2** for full details on how the story should be constructed."
   ]
  },
  {
   "cell_type": "code",
   "execution_count": null,
   "metadata": {},
   "outputs": [],
   "source": []
  },
    {
   "cell_type": "markdown",
   "id": "5e028942",
   "metadata": {},
   "source": [
    "## Part 2: A short data story / micro-project\n",
    "\n",
    "> *Exercise*: Create a short data-story based on the work we've done in class so far. (This exercise is a kind of \"micro version\" of what we'll be doing in the final project). Follow the directions in the bulleted list below when you create your data-story.\n",
    "\n",
    "* **Find your own story to tell in the work on analyzing the SF Crime Data that we've done so far** (Week 1 - Week 6). The idea is to choose an insight about crime in SF (perhaps how something changed over the years) and communicate that insight to a general audience reader.\n",
    "* The web-page should be hosted on your GitHub Pages site (Week 7).\n",
    "* The format must be the classic *Magazine Genre* presented on a single web-page (see the Segel \\& Heer paper for details.\n",
    "* The story should have a brief introduction to the dataset so new readers from outside the class can understand what's going on.\n",
    "* Your story should include three visualizations. Not more than three, not less than three (but multi-panel figures are OK). The figures should be one of each of the following types\n",
    "  - One time-series / bar chart (it's OK to use the \"fancy\" plot-typs like calendar plots or polar bar-charts from Week 2, Part 4).\n",
    "  - One map (use techniques from Week 3 and 4)\n",
    "  - One interactive visualization in Bokeh (Week 6)\n",
    "* **At a minimum, the Bokeh visualization should contain different data** than the exercise we did for Week 6 (it's a plus if it's a new type of viz altogether). \n",
    "* The two other visualization may be repetitions of figures created during the previous lectures, or they may be new.\n",
    "* Make the figures nice. Specifically:\n",
    "  - Aim to make the figures visually consistent (color, fonts, etc)\n",
    "  - Follow the recommendations from my video on nice figures (Week 2)\n",
    "* In terms of the amount of text, I envision something like 500-1500 words (including figure captions).\n",
    "* It is a plus if you can back up some of your findings with external sources, such as news stories from the area, looking up which building is located at some set of `lat,lon` coordinates, or similar. (So when you see something happening at some time/place in the data, see if you can understand it more deeply by investigating outside the dataset.)"
   ]
  },
  {
   "cell_type": "code",
   "execution_count": null,
   "id": "2555fbf8",
   "metadata": {},
   "outputs": [],
   "source": []
  }
 ],
 "metadata": {
  "kernelspec": {
   "display_name": "Python 3 (ipykernel)",
   "language": "python",
   "name": "python3"
  },
  "language_info": {
   "codemirror_mode": {
    "name": "ipython",
    "version": 3
   },
   "file_extension": ".py",
   "mimetype": "text/x-python",
   "name": "python",
   "nbconvert_exporter": "python",
   "pygments_lexer": "ipython3",
   "version": "3.9.16"
  }
 },
 "nbformat": 4,
 "nbformat_minor": 4
}